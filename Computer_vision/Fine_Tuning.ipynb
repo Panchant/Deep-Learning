{
 "cells": [
  {
   "cell_type": "markdown",
   "metadata": {},
   "source": [
    "# 微调 (Fine Tuning)\n",
    "微调（Fine Tuning）是深度学习中的一种迁移学习技术，通过在预训练模型的基础上，针对特定任务进行进一步的训练，以提高模型在该任务上的表现。微调通常用于以下场景：\n",
    "\n",
    "    *数据集较小：*当目标任务的数据集较小，直接从头开始训练模型容易导致过拟合。\n",
    "\n",
    "    *计算资源有限：*从头开始训练一个深度神经网络需要大量的计算资源和时间，而微调可以节省这些资源。\n",
    "\n",
    "## 微调的基本步骤\n",
    "1. 选择预训练模型：\n",
    "\n",
    "    - 选择一个在大型数据集（如ImageNet）上预训练好的模型，如ResNet、VGG、BERT等。\n",
    "\n",
    "2. 冻结部分层：\n",
    "\n",
    "    - 通常情况下，我们会冻结预训练模型的前几层，只对后面的几层进行微调。这是因为前几层通常学习到的是通用的特征（如边缘、纹理等），而后几层学习到的是更高级的特征（如物体部分、类别等）。\n",
    "\n",
    "3. 替换输出层：\n",
    "\n",
    "    - 根据目标任务的需求，替换预训练模型的输出层。例如，如果预训练模型是用于图像分类的，而目标任务是目标检测，则需要替换输出层以适应新的任务。\n",
    "\n",
    "4. 微调训练：\n",
    "\n",
    "    - 使用目标任务的数据集对模型进行进一步训练。通常会使用较小的学习率，以避免破坏预训练模型已经学习到的特征。\n",
    "\n",
    "5. 评估和调整：\n",
    "\n",
    "    - 在验证集上评估模型的性能，并根据需要调整超参数（如学习率、冻结层数等）。\n",
    "\n",
    "![微调](https://zh.d2l.ai/_images/finetune.svg \"Fine Tuning\")\n",
    "\n",
    "## 微调的优点\n",
    "1. 提高模型性能：通过利用预训练模型的知识，微调可以显著提高模型在目标任务上的性能。\n",
    "\n",
    "2. 减少训练时间：微调通常比从头开始训练模型更快，因为它只需要对部分层进行训练。\n",
    "\n",
    "3. 适用于小数据集：微调特别适用于数据集较小的情况，因为它可以利用预训练模型的知识来弥补数据的不足。\n",
    "\n",
    "## 微调的注意事项\n",
    "1. 学习率选择：微调时通常使用较小的学习率，以避免破坏预训练模型的特征。\n",
    "\n",
    "2. 冻结层数：冻结的层数需要根据具体任务和数据集进行调整，过多的冻结可能导致模型无法适应新任务，而过少的冻结可能导致过拟合。\n",
    "\n",
    "3. 数据增强：在微调过程中，使用数据增强技术可以进一步提高模型的泛化能力。\n",
    "\n"
   ]
  },
  {
   "cell_type": "markdown",
   "metadata": {},
   "source": [
    "## 简单代码实现"
   ]
  },
  {
   "cell_type": "code",
   "execution_count": 12,
   "metadata": {},
   "outputs": [],
   "source": [
    "%matplotlib inline\n",
    "import os\n",
    "import torch\n",
    "import torchvision\n",
    "from torch import nn\n",
    "from d2l import torch as d2l"
   ]
  },
  {
   "cell_type": "code",
   "execution_count": 13,
   "metadata": {},
   "outputs": [],
   "source": [
    "pretrained_net = torchvision.models.resnet18(pretrained=True)"
   ]
  },
  {
   "cell_type": "code",
   "execution_count": 14,
   "metadata": {},
   "outputs": [
    {
     "data": {
      "text/plain": [
       "Linear(in_features=512, out_features=1000, bias=True)"
      ]
     },
     "execution_count": 14,
     "metadata": {},
     "output_type": "execute_result"
    }
   ],
   "source": [
    "pretrained_net.fc"
   ]
  },
  {
   "cell_type": "code",
   "execution_count": 15,
   "metadata": {},
   "outputs": [],
   "source": [
    "finetune_net = torchvision.models.resnet18(pretrained=True)\n",
    "finetune_net.fc = nn.Linear(finetune_net.fc.in_features, 2)\n",
    "nn.init.xavier_uniform_(finetune_net.fc.weight);"
   ]
  },
  {
   "cell_type": "code",
   "execution_count": 16,
   "metadata": {},
   "outputs": [],
   "source": [
    "# 如果param_group=True，输出层中的模型参数将使用十倍的学习率\n",
    "def train_fine_tuning(net, learning_rate, batch_size=128, num_epochs=5,\n",
    "                      param_group=True):\n",
    "    train_iter = torch.utils.data.DataLoader(torchvision.datasets.ImageFolder(\n",
    "        os.path.join(data_dir, 'train'), transform=train_augs),\n",
    "        batch_size=batch_size, shuffle=True)\n",
    "    test_iter = torch.utils.data.DataLoader(torchvision.datasets.ImageFolder(\n",
    "        os.path.join(data_dir, 'test'), transform=test_augs),\n",
    "        batch_size=batch_size)\n",
    "    devices = d2l.try_all_gpus()\n",
    "    loss = nn.CrossEntropyLoss(reduction=\"none\")\n",
    "    if param_group:\n",
    "        params_1x = [param for name, param in net.named_parameters()\n",
    "             if name not in [\"fc.weight\", \"fc.bias\"]]\n",
    "        trainer = torch.optim.SGD([{'params': params_1x},\n",
    "                                   {'params': net.fc.parameters(),\n",
    "                                    'lr': learning_rate * 10}],\n",
    "                                lr=learning_rate, weight_decay=0.001)\n",
    "    else:\n",
    "        trainer = torch.optim.SGD(net.parameters(), lr=learning_rate,\n",
    "                                  weight_decay=0.001)\n",
    "    d2l.train_ch13(net, train_iter, test_iter, loss, trainer, num_epochs,\n",
    "                   devices)"
   ]
  },
  {
   "cell_type": "code",
   "execution_count": null,
   "metadata": {},
   "outputs": [],
   "source": [
    "train_fine_tuning(finetune_net, 5e-5)"
   ]
  }
 ],
 "metadata": {
  "kernelspec": {
   "display_name": "d2l",
   "language": "python",
   "name": "python3"
  },
  "language_info": {
   "codemirror_mode": {
    "name": "ipython",
    "version": 3
   },
   "file_extension": ".py",
   "mimetype": "text/x-python",
   "name": "python",
   "nbconvert_exporter": "python",
   "pygments_lexer": "ipython3",
   "version": "3.9.19"
  }
 },
 "nbformat": 4,
 "nbformat_minor": 2
}
