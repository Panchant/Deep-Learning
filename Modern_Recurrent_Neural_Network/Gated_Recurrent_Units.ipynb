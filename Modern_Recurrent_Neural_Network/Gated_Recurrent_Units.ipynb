{
 "cells": [
  {
   "cell_type": "markdown",
   "metadata": {},
   "source": [
    "# 门控循环单元（GRU）\n",
    "---\n",
    "门控循环单元（Gated Recurrent Unit, GRU）是一种改进的循环神经网络（RNN）架构，旨在解决传统RNN在处理长序列数据时遇到的梯度消失和梯度爆炸问题。GRU通过引入门控机制来控制信息的流动，从而更有效地捕捉序列中的长期依赖关系。\n",
    "\n",
    "## 基本结构\n",
    "\n",
    "GRU的核心思想是通过两个门控单元（更新门和重置门）来控制隐藏状态的更新。这两个门控单元决定了哪些信息应该被保留，哪些信息应该被遗忘。\n",
    "\n",
    "## 数学表示\n",
    "\n",
    "假设输入序列为 \\( x_1, x_2, \\dots, x_T \\)，隐藏状态序列为 \\( h_1, h_2, \\dots, h_T \\)。GRU的基本更新公式如下：\n",
    "\n",
    "1. **更新门（Update Gate）**：\n",
    "\\[\n",
    "z_t = \\sigma(W_z \\cdot [h_{t-1}, x_t] + b_z)\n",
    "\\]\n",
    "\n",
    "2. **重置门（Reset Gate）**：\n",
    "\\[\n",
    "r_t = \\sigma(W_r \\cdot [h_{t-1}, x_t] + b_r)\n",
    "\\]\n",
    "\n",
    "3. **候选隐藏状态（Candidate Hidden State）**：\n",
    "\\[\n",
    "\\tilde{h}_t = \\tanh(W_h \\cdot [r_t \\odot h_{t-1}, x_t] + b_h)\n",
    "\\]\n",
    "\n",
    "4. **最终隐藏状态（Final Hidden State）**：\n",
    "\\[\n",
    "h_t = (1 - z_t) \\odot h_{t-1} + z_t \\odot \\tilde{h}_t\n",
    "\\]\n",
    "\n",
    "其中：\n",
    "- \\( z_t \\) 是更新门，控制当前隐藏状态中保留多少前一个时间步的信息。\n",
    "- \\( r_t \\) 是重置门，控制当前隐藏状态中忽略多少前一个时间步的信息。\n",
    "- \\( \\tilde{h}_t \\) 是候选隐藏状态，表示在当前时间步可能的隐藏状态。\n",
    "- \\( h_t \\) 是最终的隐藏状态。\n",
    "- \\( \\sigma \\) 是sigmoid激活函数，用于将输入压缩到0到1之间。\n",
    "- \\( \\tanh \\) 是双曲正切激活函数，用于将输入压缩到-1到1之间。\n",
    "- \\( \\odot \\) 表示逐元素相乘。\n",
    "![GRU](https://zh-v2.d2l.ai/_images/gru-3.svg \"GRU\")\n",
    "## 特点\n",
    "\n",
    "1. **简化门控机制**：相比于长短期记忆网络（LSTM），GRU的门控机制更为简单，只包含两个门（更新门和重置门），减少了参数数量，便于训练。\n",
    "2. **有效捕捉长期依赖**：通过更新门和重置门，GRU能够有效地控制信息的流动，捕捉序列中的长期依赖关系，缓解梯度消失问题。\n",
    "3. **计算效率高**：由于门控机制的简化，GRU在训练和推理时的计算效率较高，适合处理大规模数据。\n",
    "\n",
    "## 应用\n",
    "\n",
    "GRU广泛应用于各种序列建模任务，特别是在自然语言处理（NLP）领域：\n",
    "- **语言模型**：预测下一个词或字符的概率。\n",
    "- **机器翻译**：将一种语言的句子翻译成另一种语言。\n",
    "- **语音识别**：将语音信号转换为文本。\n",
    "- **时间序列预测**：如股票价格预测、天气预报等。\n",
    "\n",
    "## 简单代码实现"
   ]
  },
  {
   "cell_type": "markdown",
   "metadata": {},
   "source": [
    "## 初始化模型参数"
   ]
  },
  {
   "cell_type": "code",
   "execution_count": null,
   "metadata": {
    "vscode": {
     "languageId": "plaintext"
    }
   },
   "outputs": [],
   "source": [
    "def get_params(vocab_size, num_hiddens, device):\n",
    "    num_inputs = num_outputs = vocab_size\n",
    "\n",
    "    def normal(shape):\n",
    "        return np.random.normal(scale=0.01, size=shape, ctx=device)\n",
    "\n",
    "    def three():\n",
    "        return (normal((num_inputs, num_hiddens)),\n",
    "                normal((num_hiddens, num_hiddens)),\n",
    "                np.zeros(num_hiddens, ctx=device))\n",
    "\n",
    "    W_xz, W_hz, b_z = three()  # 更新门参数\n",
    "    W_xr, W_hr, b_r = three()  # 重置门参数\n",
    "    W_xh, W_hh, b_h = three()  # 候选隐状态参数\n",
    "    # 输出层参数\n",
    "    W_hq = normal((num_hiddens, num_outputs))\n",
    "    b_q = np.zeros(num_outputs, ctx=device)\n",
    "    # 附加梯度\n",
    "    params = [W_xz, W_hz, b_z, W_xr, W_hr, b_r, W_xh, W_hh, b_h, W_hq, b_q]\n",
    "    for param in params:\n",
    "        param.attach_grad()\n",
    "    return params"
   ]
  },
  {
   "cell_type": "markdown",
   "metadata": {},
   "source": [
    "## 定义模型"
   ]
  },
  {
   "cell_type": "code",
   "execution_count": null,
   "metadata": {
    "vscode": {
     "languageId": "plaintext"
    }
   },
   "outputs": [],
   "source": [
    "def gru(inputs, state, params):\n",
    "    W_xz, W_hz, b_z, W_xr, W_hr, b_r, W_xh, W_hh, b_h, W_hq, b_q = params\n",
    "    H, = state\n",
    "    outputs = []\n",
    "    for X in inputs:\n",
    "        Z = npx.sigmoid(np.dot(X, W_xz) + np.dot(H, W_hz) + b_z)\n",
    "        R = npx.sigmoid(np.dot(X, W_xr) + np.dot(H, W_hr) + b_r)\n",
    "        H_tilda = np.tanh(np.dot(X, W_xh) + np.dot(R * H, W_hh) + b_h)\n",
    "        H = Z * H + (1 - Z) * H_tilda\n",
    "        Y = np.dot(H, W_hq) + b_q\n",
    "        outputs.append(Y)\n",
    "    return np.concatenate(outputs, axis=0), (H,)"
   ]
  }
 ],
 "metadata": {
  "language_info": {
   "name": "python"
  }
 },
 "nbformat": 4,
 "nbformat_minor": 2
}
