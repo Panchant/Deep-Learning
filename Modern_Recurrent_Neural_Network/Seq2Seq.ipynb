{
 "cells": [
  {
   "cell_type": "markdown",
   "metadata": {},
   "source": [
    "# Seq2Seq 模型介绍\n",
    "\n",
    "Seq2Seq（Sequence to Sequence）是一种用于处理序列数据的深度学习模型，广泛应用于自然语言处理（NLP）任务中，如机器翻译、文本摘要、对话生成等。Seq2Seq模型由两个主要部分组成：编码器（Encoder）和解码器（Decoder）。\n",
    "\n",
    "## 1. 编码器（Encoder）\n",
    "\n",
    "编码器的作用是将输入序列（如一句话）转换为一个固定大小的向量，称为上下文向量（Context Vector）或编码状态（Encoded State）。这个向量包含了输入序列的所有信息，可以被解码器用来生成输出序列。\n",
    "\n",
    "- **输入**：一个序列（如一句话）。\n",
    "- **输出**：一个固定大小的向量（上下文向量）。\n",
    "\n",
    "编码器通常使用循环神经网络（RNN）、长短期记忆网络（LSTM）或门控循环单元（GRU）来处理输入序列。每个时间步的输入会被编码器处理，并逐步更新其内部状态，直到整个序列被处理完毕。最终的内部状态就是上下文向量。\n",
    "\n",
    "## 2. 解码器（Decoder）\n",
    "\n",
    "解码器的作用是根据编码器生成的上下文向量，逐步生成输出序列（如翻译后的句子）。解码器通常也是一个RNN、LSTM或GRU，但它从上下文向量开始，逐步生成输出序列的每个元素。\n",
    "\n",
    "- **输入**：上下文向量。\n",
    "- **输出**：一个序列（如翻译后的句子）。\n",
    "\n",
    "在生成输出序列时，解码器通常会使用一种叫做“教师强制”（Teacher Forcing）的技术，即在训练过程中，解码器的输入是目标序列的前一个元素，而不是解码器自己生成的上一个元素。这有助于模型更快地收敛。\n",
    "\n",
    "## 3. 注意力机制（Attention Mechanism）\n",
    "\n",
    "原始的Seq2Seq模型存在一个问题：编码器生成的上下文向量需要包含输入序列的所有信息，这可能导致信息压缩和丢失。为了解决这个问题，注意力机制被引入到Seq2Seq模型中。\n",
    "\n",
    "注意力机制允许解码器在生成每个输出元素时，关注输入序列的不同部分。具体来说，解码器在每个时间步会计算一个注意力权重向量，该向量表示输入序列中每个元素对当前输出元素的重要性。然后，解码器根据这些权重对输入序列进行加权求和，得到一个加权上下文向量，用于生成当前输出元素。\n",
    "\n",
    "## 工作流程\n",
    "1. 输入处理：将输入序列（如一个句子）分解成单词或字符，并转换为向量表示。\n",
    "2. 编码：编码器接收输入序列，逐步处理每个元素，最终生成一个上下文向量，这个向量包含了输入序列的信息。\n",
    "3. 解码：解码器以上下文向量为初始输入，逐步生成输出序列，通常使用“教师强制”（Teacher Forcing）策略，即在每个时间步使用真实的上一个输出作为下一个输入。\n",
    "4. 损失计算：通过计算生成的序列与真实序列之间的差异（如使用交叉熵损失）来训练模型。\n",
    "\n",
    "![S2S](https://zh-v2.d2l.ai/_images/seq2seq-details.svg \"s2s\")\n",
    "\n",
    "## 4. 应用场景\n",
    "\n",
    "- **机器翻译**：将一种语言的句子翻译成另一种语言。\n",
    "- **文本摘要**：将长文本压缩成简短的摘要。\n",
    "- **对话生成**：根据用户的输入生成合适的回复。\n",
    "- **语音识别**：将语音信号转换为文本。\n",
    "\n",
    "## 5. 优点与局限性\n",
    "\n",
    "- **优点**：\n",
    "  - 能够处理变长的输入和输出序列。\n",
    "  - 通过注意力机制，可以更好地捕捉输入序列中的重要信息。\n",
    "\n",
    "- **局限性**：\n",
    "  - 训练时间较长，尤其是在处理长序列时。\n",
    "  - 对于非常长的序列，信息压缩可能导致性能下降。"
   ]
  },
  {
   "cell_type": "markdown",
   "metadata": {},
   "source": [
    "## 简单代码实现\n",
    "\n",
    "### 编码器\n"
   ]
  },
  {
   "cell_type": "code",
   "execution_count": null,
   "metadata": {
    "vscode": {
     "languageId": "plaintext"
    }
   },
   "outputs": [],
   "source": [
    "#@save\n",
    "class Seq2SeqEncoder(d2l.Encoder):\n",
    "    \"\"\"用于序列到序列学习的循环神经网络编码器\"\"\"\n",
    "    def __init__(self, vocab_size, embed_size, num_hiddens, num_layers,\n",
    "                 dropout=0, **kwargs):\n",
    "        super(Seq2SeqEncoder, self).__init__(**kwargs)\n",
    "        # 嵌入层\n",
    "        self.embedding = nn.Embedding(vocab_size, embed_size)\n",
    "        self.rnn = nn.GRU(embed_size, num_hiddens, num_layers,\n",
    "                          dropout=dropout)\n",
    "\n",
    "    def forward(self, X, *args):\n",
    "        # 输出'X'的形状：(batch_size,num_steps,embed_size)\n",
    "        X = self.embedding(X)\n",
    "        # 在循环神经网络模型中，第一个轴对应于时间步\n",
    "        X = X.permute(1, 0, 2)\n",
    "        # 如果未提及状态，则默认为0\n",
    "        output, state = self.rnn(X)\n",
    "        # output的形状:(num_steps,batch_size,num_hiddens)\n",
    "        # state的形状:(num_layers,batch_size,num_hiddens)\n",
    "        return output, state"
   ]
  },
  {
   "cell_type": "markdown",
   "metadata": {},
   "source": [
    "### 解码器"
   ]
  },
  {
   "cell_type": "code",
   "execution_count": null,
   "metadata": {
    "vscode": {
     "languageId": "plaintext"
    }
   },
   "outputs": [],
   "source": [
    "class Seq2SeqDecoder(d2l.Decoder):\n",
    "    \"\"\"用于序列到序列学习的循环神经网络解码器\"\"\"\n",
    "    def __init__(self, vocab_size, embed_size, num_hiddens, num_layers,\n",
    "                 dropout=0, **kwargs):\n",
    "        super(Seq2SeqDecoder, self).__init__(**kwargs)\n",
    "        self.embedding = nn.Embedding(vocab_size, embed_size)\n",
    "        self.rnn = nn.GRU(embed_size + num_hiddens, num_hiddens, num_layers,\n",
    "                          dropout=dropout)\n",
    "        self.dense = nn.Linear(num_hiddens, vocab_size)\n",
    "\n",
    "    def init_state(self, enc_outputs, *args):\n",
    "        return enc_outputs[1]\n",
    "\n",
    "    def forward(self, X, state):\n",
    "        # 输出'X'的形状：(batch_size,num_steps,embed_size)\n",
    "        X = self.embedding(X).permute(1, 0, 2)\n",
    "        # 广播context，使其具有与X相同的num_steps\n",
    "        context = state[-1].repeat(X.shape[0], 1, 1)\n",
    "        X_and_context = torch.cat((X, context), 2)\n",
    "        output, state = self.rnn(X_and_context, state)\n",
    "        output = self.dense(output).permute(1, 0, 2)\n",
    "        # output的形状:(batch_size,num_steps,vocab_size)\n",
    "        # state的形状:(num_layers,batch_size,num_hiddens)\n",
    "        return output, state"
   ]
  },
  {
   "cell_type": "markdown",
   "metadata": {},
   "source": [
    "### 损失函数"
   ]
  },
  {
   "cell_type": "code",
   "execution_count": null,
   "metadata": {
    "vscode": {
     "languageId": "plaintext"
    }
   },
   "outputs": [],
   "source": [
    "#@save\n",
    "def sequence_mask(X, valid_len, value=0):\n",
    "    \"\"\"在序列中屏蔽不相关的项\"\"\"\n",
    "    maxlen = X.size(1)\n",
    "    mask = torch.arange((maxlen), dtype=torch.float32,\n",
    "                        device=X.device)[None, :] < valid_len[:, None]\n",
    "    X[~mask] = value\n",
    "    return X\n",
    "\n",
    "X = torch.tensor([[1, 2, 3], [4, 5, 6]])\n",
    "sequence_mask(X, torch.tensor([1, 2]))"
   ]
  },
  {
   "cell_type": "code",
   "execution_count": null,
   "metadata": {
    "vscode": {
     "languageId": "plaintext"
    }
   },
   "outputs": [],
   "source": [
    "#@save\n",
    "class MaskedSoftmaxCELoss(nn.CrossEntropyLoss):\n",
    "    \"\"\"带遮蔽的softmax交叉熵损失函数\"\"\"\n",
    "    # pred的形状：(batch_size,num_steps,vocab_size)\n",
    "    # label的形状：(batch_size,num_steps)\n",
    "    # valid_len的形状：(batch_size,)\n",
    "    def forward(self, pred, label, valid_len):\n",
    "        weights = torch.ones_like(label)\n",
    "        weights = sequence_mask(weights, valid_len)\n",
    "        self.reduction='none'\n",
    "        unweighted_loss = super(MaskedSoftmaxCELoss, self).forward(\n",
    "            pred.permute(0, 2, 1), label)\n",
    "        weighted_loss = (unweighted_loss * weights).mean(dim=1)\n",
    "        return weighted_loss"
   ]
  }
 ],
 "metadata": {
  "language_info": {
   "name": "python"
  }
 },
 "nbformat": 4,
 "nbformat_minor": 2
}
