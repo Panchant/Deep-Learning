{
 "cells": [
  {
   "cell_type": "markdown",
   "metadata": {},
   "source": [
    "# 语言模型(Language Model)\n",
    "---\n",
    "语言模型是一种用于预测文本序列中下一个词或字符的概率分布的统计模型。它可以根据已有的文本数据学习语言的结构和规律，从而生成或理解自然语言。语言模型的主要任务是给定一个输入序列（如句子或段落），预测下一个词或字符的概率。\n",
    "\n",
    "## 学习语言模型\n",
    "P(x_1, x_2, \\ldots, x_T) = \\prod_{t=1}^T P(x_t  \\mid  x_1, \\ldots, x_{t-1})."
   ]
  },
  {
   "cell_type": "markdown",
   "metadata": {},
   "source": [
    "例如，包含了四个单词的一个文本序列的概率是：\n",
    "\n",
    "P(\\text{deep}, \\text{learning}, \\text{is}, \\text{fun}) =  P(\\text{deep}) P(\\text{learning}  \\mid  \\text{deep}) P(\\text{is}  \\mid  \\text{deep}, \\text{learning}) P(\\text{fun}  \\mid  \\text{deep}, \\text{learning}, \\text{is}).\n",
    "\n",
    "为了训练语言模型，我们需要计算单词的概率， 以及给定前面几个单词后出现某个单词的条件概率。 这些概率本质上就是语言模型的参数。\n"
   ]
  },
  {
   "cell_type": "markdown",
   "metadata": {},
   "source": [
    "## 马尔可夫模型与n元语法\n",
    "如果P(x_{t+1} \\mid x_t, \\ldots, x_1) = P(x_{t+1} \\mid x_t)， 则序列上的分布满足一阶马尔可夫性质。 阶数越高，对应的依赖关系就越长。 这种性质推导出了许多可以应用于序列建模的近似公式：\n",
    "\\begin{split}\\begin{aligned}\n",
    "P(x_1, x_2, x_3, x_4) &=  P(x_1) P(x_2) P(x_3) P(x_4),\\\\\n",
    "P(x_1, x_2, x_3, x_4) &=  P(x_1) P(x_2  \\mid  x_1) P(x_3  \\mid  x_2) P(x_4  \\mid  x_3),\\\\\n",
    "P(x_1, x_2, x_3, x_4) &=  P(x_1) P(x_2  \\mid  x_1) P(x_3  \\mid  x_1, x_2) P(x_4  \\mid  x_2, x_3).\n",
    "\\end{aligned}\\end{split}\n",
    "通常，涉及一个、两个和三个变量的概率公式分别被称为 一元语法（unigram）、二元语法（bigram）和三元语法（trigram）模型。 下面，我们将学习如何去设计更好的模型。"
   ]
  },
  {
   "cell_type": "markdown",
   "metadata": {},
   "source": [
    "## 发展趋势\n",
    "- *预训练语言模型：*如GPT、BERT等，通过大规模无监督预训练和微调，显著提升了语言模型的性能。\n",
    "\n",
    "- *多模态语言模型：*结合文本、图像、音频等多种模态数据，增强模型的理解和生成能力。\n",
    "\n",
    "- *可解释性和公平性：*研究如何提高语言模型的可解释性，并确保其在不同应用场景中的公平性。"
   ]
  },
  {
   "cell_type": "markdown",
   "metadata": {},
   "source": [
    "**代码可参考:**  [语言模型和数据集](https://zh-v2.d2l.ai/chapter_recurrent-neural-networks/language-models-and-dataset.html \"\")"
   ]
  }
 ],
 "metadata": {
  "language_info": {
   "name": "python"
  }
 },
 "nbformat": 4,
 "nbformat_minor": 2
}
