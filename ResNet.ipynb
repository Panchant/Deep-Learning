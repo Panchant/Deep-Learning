{
 "cells": [
  {
   "cell_type": "markdown",
   "metadata": {},
   "source": [
    "# ResNet\n",
    "---\n",
    "ResNet（Residual Network）是由微软研究院的何恺明等人在2015年提出的一种深度卷积神经网络架构，它在当年的ImageNet大规模视觉识别挑战赛（ILSVRC）中取得了优异的成绩，赢得了冠军。ResNet的核心创新是引入了残差学习（Residual Learning）的概念，解决了深度神经网络在训练过程中遇到的梯度消失和梯度爆炸问题，从而使得训练非常深的网络成为可能。"
   ]
  },
  {
   "cell_type": "markdown",
   "metadata": {},
   "source": [
    "## 主要特点\n",
    "1. 残差学习：\n",
    "    ResNet的核心思想是通过引入残差块（Residual Block）来实现残差学习。残差块的基本结构是将输入数据直接添加到网络的输出中，从而形成一个残差映射（Residual Mapping）。具体来说，假设输入为 `x`，网络的输出为`F(x)`，那么残差块的输出为`H(x) = F(x) + x`。这种设计使得网络可以学习到输入和输出之间的残差，而不是直接学习输出。\n",
    "\n",
    "    - 残差块的结构：\n",
    "\n",
    "        - 输入 x 经过一系列卷积层（通常包括卷积、批量归一化和激活函数）得到 F(x)。\n",
    "\n",
    "        - 将 F(x) 与输入 x 相加，得到残差块的输出 H(x) = F(x) + x。\n",
    "\n",
    "        - 最后，对 H(x) 进行激活函数处理（通常是ReLU）。\n",
    "\n",
    "2. 跳跃连接（Skip Connection）：\n",
    "    ResNet通过跳跃连接（Skip Connection）实现了残差学习。跳跃连接将输入数据直接传递到网络的输出，从而避免了梯度消失问题。跳跃连接使得网络可以更容易地学习到恒等映射（Identity Mapping），即 F(x) = 0，从而简化了网络的学习过程。\n",
    "\n",
    "3. 深度网络：\n",
    "    ResNet通过堆叠多个残差块来构建非常深的网络。常见的ResNet架构包括ResNet-18、ResNet-34、ResNet-50、ResNet-101和ResNet-152，其中数字表示网络的层数。ResNet-152是当时最深的网络之一，达到了152层。\n",
    "\n",
    "4. 批量归一化：\n",
    "    ResNet在每个卷积层之后使用了批量归一化（Batch Normalization），这有助于加速训练过程并提高模型的泛化能力。\n",
    "\n"
   ]
  },
  {
   "cell_type": "markdown",
   "metadata": {},
   "source": [
    "## 残差块\n",
    "\n",
    "![res](https://zh-v2.d2l.ai/_images/residual-block.svg \"res\")"
   ]
  },
  {
   "cell_type": "markdown",
   "metadata": {},
   "source": [
    "## 包含与不包含1×1卷积层的残差块\n",
    "\n",
    "![Res](https://zh-v2.d2l.ai/_images/resnet-block.svg \"Res\")"
   ]
  },
  {
   "cell_type": "markdown",
   "metadata": {},
   "source": [
    "## 网格结构\n",
    "1. 输入层：\n",
    "    - 输入层接收224x224x3的图像数据。\n",
    "\n",
    "2. 卷积层和池化层：\n",
    "    - 在进入残差块之前，网络首先通过几个卷积层和池化层来提取基本的特征。\n",
    "\n",
    "3. 残差块：\n",
    "    - 网络的主体由多个残差块组成，每个残差块内部包含多个卷积层和跳跃连接。\n",
    "\n",
    "4. 全局平均池化层：\n",
    "    - 在网络的最后，使用全局平均池化层将特征图转换为一个固定长度的向量。\n",
    "\n",
    "5. 全连接层和softmax层：\n",
    "    - 最终的全连接层和softmax层用于输出分类结果。"
   ]
  },
  {
   "cell_type": "markdown",
   "metadata": {},
   "source": [
    "## 流程图\n",
    "\n",
    "![Process](https://zh-v2.d2l.ai/_images/resnet18.svg \"Processing\")"
   ]
  },
  {
   "cell_type": "markdown",
   "metadata": {},
   "source": [
    "## 简单代码实现\n"
   ]
  },
  {
   "cell_type": "code",
   "execution_count": 2,
   "metadata": {},
   "outputs": [],
   "source": [
    "import torch\n",
    "from torch import nn\n",
    "from torch.nn import functional as F\n",
    "from d2l import torch as d2l\n",
    "\n",
    "\n",
    "class Residual(nn.Module):  #@save\n",
    "    def __init__(self, input_channels, num_channels,\n",
    "                 use_1x1conv=False, strides=1):\n",
    "        super().__init__()\n",
    "        self.conv1 = nn.Conv2d(input_channels, num_channels,\n",
    "                               kernel_size=3, padding=1, stride=strides)\n",
    "        self.conv2 = nn.Conv2d(num_channels, num_channels,\n",
    "                               kernel_size=3, padding=1)\n",
    "        if use_1x1conv:\n",
    "            self.conv3 = nn.Conv2d(input_channels, num_channels,\n",
    "                                   kernel_size=1, stride=strides)\n",
    "        else:\n",
    "            self.conv3 = None\n",
    "        self.bn1 = nn.BatchNorm2d(num_channels)\n",
    "        self.bn2 = nn.BatchNorm2d(num_channels)\n",
    "\n",
    "    def forward(self, X):\n",
    "        Y = F.relu(self.bn1(self.conv1(X)))\n",
    "        Y = self.bn2(self.conv2(Y))\n",
    "        if self.conv3:\n",
    "            X = self.conv3(X)\n",
    "        Y += X\n",
    "        return F.relu(Y)"
   ]
  },
  {
   "cell_type": "code",
   "execution_count": 3,
   "metadata": {},
   "outputs": [
    {
     "data": {
      "text/plain": [
       "torch.Size([4, 3, 6, 6])"
      ]
     },
     "execution_count": 3,
     "metadata": {},
     "output_type": "execute_result"
    }
   ],
   "source": [
    "blk = Residual(3,3)\n",
    "X = torch.rand(4, 3, 6, 6)\n",
    "Y = blk(X)\n",
    "Y.shape"
   ]
  },
  {
   "cell_type": "code",
   "execution_count": 4,
   "metadata": {},
   "outputs": [],
   "source": [
    "b1 = nn.Sequential(nn.Conv2d(1, 64, kernel_size=7, stride=2, padding=3),\n",
    "                   nn.BatchNorm2d(64), nn.ReLU(),\n",
    "                   nn.MaxPool2d(kernel_size=3, stride=2, padding=1))"
   ]
  },
  {
   "cell_type": "code",
   "execution_count": 5,
   "metadata": {},
   "outputs": [],
   "source": [
    "def resnet_block(input_channels, num_channels, num_residuals,\n",
    "                 first_block=False):\n",
    "    blk = []\n",
    "    for i in range(num_residuals):\n",
    "        if i == 0 and not first_block:\n",
    "            blk.append(Residual(input_channels, num_channels,\n",
    "                                use_1x1conv=True, strides=2))\n",
    "        else:\n",
    "            blk.append(Residual(num_channels, num_channels))\n",
    "    return blk"
   ]
  },
  {
   "cell_type": "code",
   "execution_count": 6,
   "metadata": {},
   "outputs": [],
   "source": [
    "b2 = nn.Sequential(*resnet_block(64, 64, 2, first_block=True))\n",
    "b3 = nn.Sequential(*resnet_block(64, 128, 2))\n",
    "b4 = nn.Sequential(*resnet_block(128, 256, 2))\n",
    "b5 = nn.Sequential(*resnet_block(256, 512, 2))"
   ]
  },
  {
   "cell_type": "code",
   "execution_count": 7,
   "metadata": {},
   "outputs": [],
   "source": [
    "net = nn.Sequential(b1, b2, b3, b4, b5,\n",
    "                    nn.AdaptiveAvgPool2d((1,1)),\n",
    "                    nn.Flatten(), nn.Linear(512, 10))"
   ]
  },
  {
   "cell_type": "code",
   "execution_count": 8,
   "metadata": {},
   "outputs": [
    {
     "name": "stdout",
     "output_type": "stream",
     "text": [
      "Sequential output shape:\t torch.Size([1, 64, 56, 56])\n",
      "Sequential output shape:\t torch.Size([1, 64, 56, 56])\n",
      "Sequential output shape:\t torch.Size([1, 128, 28, 28])\n",
      "Sequential output shape:\t torch.Size([1, 256, 14, 14])\n",
      "Sequential output shape:\t torch.Size([1, 512, 7, 7])\n",
      "AdaptiveAvgPool2d output shape:\t torch.Size([1, 512, 1, 1])\n",
      "Flatten output shape:\t torch.Size([1, 512])\n",
      "Linear output shape:\t torch.Size([1, 10])\n"
     ]
    }
   ],
   "source": [
    "X = torch.rand(size=(1, 1, 224, 224))\n",
    "for layer in net:\n",
    "    X = layer(X)\n",
    "    print(layer.__class__.__name__,'output shape:\\t', X.shape)"
   ]
  }
 ],
 "metadata": {
  "kernelspec": {
   "display_name": "d2l",
   "language": "python",
   "name": "python3"
  },
  "language_info": {
   "codemirror_mode": {
    "name": "ipython",
    "version": 3
   },
   "file_extension": ".py",
   "mimetype": "text/x-python",
   "name": "python",
   "nbconvert_exporter": "python",
   "pygments_lexer": "ipython3",
   "version": "3.9.19"
  }
 },
 "nbformat": 4,
 "nbformat_minor": 2
}
